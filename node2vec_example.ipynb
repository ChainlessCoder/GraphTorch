{
 "cells": [
  {
   "cell_type": "code",
   "execution_count": 165,
   "metadata": {},
   "outputs": [],
   "source": [
    "from torch_geometric.datasets import KarateClub\n",
    "from graph_torch.dynamicGraph import dynamicGraph\n",
    "from graph_torch.sampler.n2v_random_walk import UnweightedNode2vecSampler\n",
    "from graph_torch.nn.node2vecLayer import node2vec_layer\n",
    "import torch\n",
    "from torch.optim import SparseAdam\n",
    "from sklearn.manifold import TSNE\n",
    "import matplotlib.pyplot as plt\n",
    "%matplotlib inline"
   ]
  },
  {
   "cell_type": "code",
   "execution_count": 234,
   "metadata": {},
   "outputs": [],
   "source": [
    "from torch import rand\n",
    "\n",
    "dataset = KarateClub()[0]\n",
    "embedding_dim = 128\n",
    "node_num = dataset.num_nodes\n",
    "\n",
    "# Initialize graph \n",
    "dg = dynamicGraph()\n",
    "\n",
    "# Add randomly initialized node embeddings to the graph\n",
    "dg.add_nodes({ \"w\": rand(node_num, embedding_dim) / 10, # TO DO: initialize node embeddings by calling the Node class\n",
    "              \"s\": rand(node_num, embedding_dim) \n",
    "             })\n",
    "\n",
    "# Add edges to the graph\n",
    "dg.add_edges(edge_type = \"e\", \n",
    "             U = dataset.edge_index[0], \n",
    "             V = dataset.edge_index[1], \n",
    "             directed = False\n",
    "            )\n"
   ]
  },
  {
   "cell_type": "code",
   "execution_count": 235,
   "metadata": {},
   "outputs": [
    {
     "data": {
      "text/plain": [
       "Parameter containing:\n",
       "tensor([[0.0314, 0.0119, 0.0202,  ..., 0.0176, 0.0044, 0.0364],\n",
       "        [0.0557, 0.0467, 0.0084,  ..., 0.0497, 0.0051, 0.0009],\n",
       "        [0.0707, 0.0415, 0.0763,  ..., 0.0436, 0.0150, 0.0004],\n",
       "        ...,\n",
       "        [0.0659, 0.0580, 0.0007,  ..., 0.0919, 0.0215, 0.0116],\n",
       "        [0.0131, 0.0310, 0.0288,  ..., 0.0007, 0.0550, 0.0535],\n",
       "        [0.0535, 0.0936, 0.0070,  ..., 0.0661, 0.0458, 0.0765]],\n",
       "       requires_grad=True)"
      ]
     },
     "execution_count": 235,
     "metadata": {},
     "output_type": "execute_result"
    }
   ],
   "source": [
    "# Get node data\n",
    "dg.get_node_data('w')"
   ]
  },
  {
   "cell_type": "code",
   "execution_count": 236,
   "metadata": {},
   "outputs": [
    {
     "data": {
      "text/plain": [
       "(tensor([ 0,  0,  0,  0,  0,  0,  0,  0,  0,  0,  0,  0,  0,  0,  0,  0,  1,  1,\n",
       "          1,  1,  1,  1,  1,  1,  1,  2,  2,  2,  2,  2,  2,  2,  2,  2,  2,  3,\n",
       "          3,  3,  3,  3,  3,  4,  4,  4,  5,  5,  5,  5,  6,  6,  6,  6,  7,  7,\n",
       "          7,  7,  8,  8,  8,  8,  8,  9,  9, 10, 10, 10, 11, 12, 12, 13, 13, 13,\n",
       "         13, 13, 14, 14, 15, 15, 16, 16, 17, 17, 18, 18, 19, 19, 19, 20, 20, 21,\n",
       "         21, 22, 22, 23, 23, 23, 23, 23, 24, 24, 24, 25, 25, 25, 26, 26, 27, 27,\n",
       "         27, 27, 28, 28, 28, 29, 29, 29, 29, 30, 30, 30, 30, 31, 31, 31, 31, 31,\n",
       "         31, 32, 32, 32, 32, 32, 32, 32, 32, 32, 32, 32, 32, 33, 33, 33, 33, 33,\n",
       "         33, 33, 33, 33, 33, 33, 33, 33, 33, 33, 33, 33]),\n",
       " tensor([ 1,  2,  3,  4,  5,  6,  7,  8, 10, 11, 12, 13, 17, 19, 21, 31,  0,  2,\n",
       "          3,  7, 13, 17, 19, 21, 30,  0,  1,  3,  7,  8,  9, 13, 27, 28, 32,  0,\n",
       "          1,  2,  7, 12, 13,  0,  6, 10,  0,  6, 10, 16,  0,  4,  5, 16,  0,  1,\n",
       "          2,  3,  0,  2, 30, 32, 33,  2, 33,  0,  4,  5,  0,  0,  3,  0,  1,  2,\n",
       "          3, 33, 32, 33, 32, 33,  5,  6,  0,  1, 32, 33,  0,  1, 33, 32, 33,  0,\n",
       "          1, 32, 33, 25, 27, 29, 32, 33, 25, 27, 31, 23, 24, 31, 29, 33,  2, 23,\n",
       "         24, 33,  2, 31, 33, 23, 26, 32, 33,  1,  8, 32, 33,  0, 24, 25, 28, 32,\n",
       "         33,  2,  8, 14, 15, 18, 20, 22, 23, 29, 30, 31, 33,  8,  9, 13, 14, 15,\n",
       "         18, 19, 20, 22, 23, 26, 27, 28, 29, 30, 31, 32]),\n",
       " None)"
      ]
     },
     "execution_count": 236,
     "metadata": {},
     "output_type": "execute_result"
    }
   ],
   "source": [
    "# Get edge data\n",
    "dg.get_edges('e')"
   ]
  },
  {
   "cell_type": "code",
   "execution_count": 237,
   "metadata": {},
   "outputs": [],
   "source": [
    "n2v_sampler = UnweightedNode2vecSampler(graph = dg, \n",
    "                                        edge_type = 'e', \n",
    "                                        walk_length = 15, \n",
    "                                        context_size = 5, \n",
    "                                        walks_per_node = 10,\n",
    "                                        num_negative_samples = 1, \n",
    "                                        p = 0.5, \n",
    "                                        q = 1, \n",
    "                                        sparse = True\n",
    "                                       )\n",
    "\n",
    "generator = n2v_sampler.generator(batch_size = 10, \n",
    "                                  shuffle = True, \n",
    "                                  num_workers = 0,\n",
    "                                  batch = None\n",
    "                                 )"
   ]
  },
  {
   "cell_type": "code",
   "execution_count": 238,
   "metadata": {},
   "outputs": [
    {
     "data": {
      "image/png": "[encoded data removed]",
      "text/plain": [
       "<Figure size 576x576 with 1 Axes>"
      ]
     },
     "metadata": {
      "needs_background": "light"
     },
     "output_type": "display_data"
    }
   ],
   "source": [
    "n2v_layer.eval()\n",
    "z = dg.get_node_data('w').detach()#n2v_layer(torch.arange(dg.get_nodes_num())).detach()\n",
    "z = TSNE(n_components=2).fit_transform(z.cpu().numpy())\n",
    "y = dataset.y.cpu().numpy()\n",
    "\n",
    "colors = ['blue', 'red', 'orange', 'green']\n",
    "plt.figure(figsize=(8, 8))\n",
    "for i in range(dataset.y.max().item() + 1):\n",
    "    plt.scatter(z[y == i, 0], z[y == i, 1], s=20, color=colors[i])"
   ]
  },
  {
   "cell_type": "code",
   "execution_count": 239,
   "metadata": {},
   "outputs": [],
   "source": [
    "epochs = 1000\n",
    "lr = 0.01\n",
    "n2v_layer = node2vec_layer(graph = dg, \n",
    "                           node_type = 'w'\n",
    "                          )\n",
    "optimizer = SparseAdam(list(n2v_layer.parameters()), lr = lr)\n",
    "\n",
    "n2v_layer.train()\n",
    "for i in range(epochs):\n",
    "    for pos, neg in generator:\n",
    "        optimizer.zero_grad()\n",
    "        loss = n2v_layer.loss(pos, neg)\n",
    "        loss.backward()\n",
    "        optimizer.step()"
   ]
  },
  {
   "cell_type": "code",
   "execution_count": 240,
   "metadata": {},
   "outputs": [
    {
     "data": {
      "image/png": "[encoded data removed]",
      "text/plain": [
       "<Figure size 576x576 with 1 Axes>"
      ]
     },
     "metadata": {
      "needs_background": "light"
     },
     "output_type": "display_data"
    }
   ],
   "source": [
    "n2v_layer.eval()\n",
    "z = n2v_layer(torch.arange(dg.get_nodes_num())).detach()\n",
    "z = TSNE(n_components=2).fit_transform(z.cpu().numpy())\n",
    "y = dataset.y.cpu().numpy()\n",
    "\n",
    "colors = ['blue', 'red', 'orange', 'green']\n",
    "plt.figure(figsize=(8, 8))\n",
    "for i in range(dataset.y.max().item() + 1):\n",
    "    plt.scatter(z[y == i, 0], z[y == i, 1], s=20, color=colors[i])\n",
    "#plt.axis('off')"
   ]
  },
  {
   "cell_type": "code",
   "execution_count": null,
   "metadata": {},
   "outputs": [],
   "source": []
  }
 ],
 "metadata": {
  "kernelspec": {
   "display_name": "Python 3",
   "language": "python",
   "name": "python3"
  },
  "language_info": {
   "codemirror_mode": {
    "name": "ipython",
    "version": 3
   },
   "file_extension": ".py",
   "mimetype": "text/x-python",
   "name": "python",
   "nbconvert_exporter": "python",
   "pygments_lexer": "ipython3",
   "version": "3.8.5"
  }
 },
 "nbformat": 4,
 "nbformat_minor": 4
}

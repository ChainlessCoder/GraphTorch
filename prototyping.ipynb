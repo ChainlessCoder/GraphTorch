{
 "cells": [
  {
   "cell_type": "code",
   "execution_count": 189,
   "metadata": {},
   "outputs": [],
   "source": [
    "from torch import Tensor, tensor, empty, cat, arange, int64\n",
    "from torch_sparse import SparseTensor\n",
    "from typing import Optional\n",
    "\n",
    "from torch import unique\n",
    "\n",
    "class graphTorch():\n",
    "    \n",
    "    def __init__(self):\n",
    "        self.node_identifiers = empty(0, dtype = int64)\n",
    "        self.node_data = {}\n",
    "        self.edge_data = {}\n",
    "        self._counter = 0\n",
    "        \n",
    "    def get_node_IDs(self):\n",
    "        return self.node_identifiers\n",
    "    \n",
    "    def get_relative_node_indices(self, node_ids: Tensor):\n",
    "        identifiers = self.node_identifiers.unsqueeze(dim = 1)\n",
    "        mask = identifiers == node_ids.unsqueeze(dim = 0)\n",
    "        relative_indices = torch.arange(self.node_identifiers.shape[0]).unsqueeze(dim = 1) * mask\n",
    "        return relative_indices.sum(dim = 0)    \n",
    "\n",
    "    def get_node_data(self, node_type: str):\n",
    "        assert (node_type in self.node_data), \"the given key does not exist\"\n",
    "        return self.node_data[node_type]\n",
    "    \n",
    "    def get_edges(self, edge_type: str):\n",
    "        assert (edge_type in self.edge_data), \"the given key does not exist\"\n",
    "        return self.edge_data[edge_type]\n",
    "                \n",
    "    def add_nodes(self, nodes_data: dict):\n",
    "        new_node_identifiers = arange(self._counter, self._counter + len(nodes_data[next(iter(nodes_data))]))\n",
    "        self.node_identifiers = cat((self.node_identifiers, new_node_identifiers), dim = 0)\n",
    "        self._counter += len(new_node_identifiers)\n",
    "        for node_data_type, data in nodes_data.items():\n",
    "            if node_data_type in self.node_data:\n",
    "                self.node_data[node_data_type] = cat((self.node_data[node_data_type], data), dim=0)\n",
    "            else:\n",
    "                if self.node_identifiers.shape[0] != 0:\n",
    "                    assert (data.shape[0] == self.node_identifiers.shape[0]), \"number of nodes must be equal\"\n",
    "                self.node_data[node_data_type] = data  \n",
    "    \n",
    "    def add_edges(self, edge_type: str, U: Tensor, V: Tensor, directed: bool, values: Optional[Tensor] = None):\n",
    "        if directed == False:\n",
    "            U = cat((U,V), dim = 0)\n",
    "            V = cat((V,U), dim = 0)\n",
    "        N = self.node_identifiers.shape[0]\n",
    "        if edge_type not in self.edge_data:\n",
    "            self.edge_data[edge_type] = edges()\n",
    "            self._assign_processed_edges(edge_type = edge_type, row = U, col = V, N = N, v = values)\n",
    "        else:\n",
    "            if (self.edge_data[edge_type].values == None) and (self.edge_data[edge_type].U != 0):\n",
    "                raise \"the given edge_type is weighted\"\n",
    "            row = cat((self.edge_data[edge_type].U, U), dim = 0)\n",
    "            col = cat((self.edge_data[edge_type].V, V), dim = 0)\n",
    "            if values is not None:\n",
    "                values = cat((self.edge_data[edge_type].values, values), dim = 0)\n",
    "            self._assign_processed_edges(edge_type, row = U, col = V, N = N, v = values)\n",
    "            \n",
    "    def delete_edges(self, edge_type: str, U: Tensor, V: Tensor):\n",
    "        E = cat((self.edge_data[edge_type].U.unsqueeze(0), self.edge_data[edge_type].V.unsqueeze(0)),dim=0).T\n",
    "        Erem = cat((U.unsqueeze(0), V.unsqueeze(0)), dim=0).T\n",
    "        mask = E.unsqueeze(1) == Erem\n",
    "        mask = mask.all(-1)\n",
    "        non_repeat_mask = ~mask.any(-1)\n",
    "        self._change_edge_state(edge_type = edge_type, mask = non_repeat_mask)\n",
    "    \n",
    "    def delete_nodes(self, node_identifiers: Optional[Tensor] = None, relative_node_indices: Optional[Tensor] = None):\n",
    "        assert ((node_identifiers != None) ^ (relative_node_indices != None)), \"Either node_identifiers, or relative_node_indices have to be provided\"\n",
    "        if node_identifiers != None:\n",
    "            relative_node_indices = self.get_relative_node_indices(node_identifiers)\n",
    "        relative_node_indices = cat((relative_node_indices.unsqueeze(0),relative_node_indices.unsqueeze(0)), dim = 0).T\n",
    "        for key in self.edge_data:\n",
    "            E = cat((self.edge_data[key].U.unsqueeze(0), self.edge_data[key].V.unsqueeze(0)), dim=0).T\n",
    "            mask = (E.unsqueeze(1) == relative_node_indices).any(-1).any(-1)\n",
    "            self._change_edge_state(edge_type = key, mask = mask)\n",
    "        nodes_with_new_relative_indices = arange(self.node_identifiers.shape[0] - relative_node_indices.shape[0], self.node_identifiers.shape[0])\n",
    "        for ind, elm in enumerate(relative_node_indices[:,0]):\n",
    "            self.node_identifiers[elm] = self.node_identifiers[-1]\n",
    "            self.node_identifiers = self.node_identifiers[:-1]\n",
    "            for k in self.node_data:\n",
    "                self.node_data[k][elm] = self.node_data[k][-1]\n",
    "                self.node_data[k] = self.node_data[k][:-1]\n",
    "            for k in self.edge_data:\n",
    "                Umask = self.edge_data[k].U == nodes_with_new_relative_indices[-(ind+1)]\n",
    "                Vmask = self.edge_data[k].V == nodes_with_new_relative_indices[-(ind+1)]\n",
    "                self.edge_data[k].U[Umask] = elm\n",
    "                self.edge_data[k].V[Vmask] = elm\n",
    "\n",
    "        \n",
    "    def _assign_processed_edges(self,edge_type:str, row: Tensor, col: Tensor, N: int, v: Optional[Tensor]):\n",
    "        adj = SparseTensor(row=row, col=col, sparse_sizes=(N, N), value = v).coalesce()\n",
    "        self.edge_data[edge_type].U = adj.storage.row()\n",
    "        self.edge_data[edge_type].V = adj.storage.col()\n",
    "        if v is not None:\n",
    "            self.edge_data[edge_type].values = adj.storage.value() \n",
    "            \n",
    "    def _change_edge_state(self, edge_type: str, mask: Tensor):\n",
    "        self.edge_data[edge_type].U = self.edge_data[edge_type].U[mask]\n",
    "        self.edge_data[edge_type].V = self.edge_data[edge_type].V[mask]\n",
    "        if self.edge_data[edge_type].values is not None:\n",
    "            self.edge_data[edge_type].values = self.edge_data[edge_type].values[mask]\n",
    "class edges:\n",
    "    def __init__(self):\n",
    "        self.U = empty(0)\n",
    "        self.V = empty(0)\n",
    "        self.values = None\n",
    "        \n",
    "\n",
    "dg = graphTorch()\n",
    "\n",
    "from torch import rand\n",
    "dg.add_nodes({\"w\": rand(5,6,6), \"s\": rand(5,4,4)})\n",
    "#dg.add_nodes({\"w\": torch.rand(2,6,6), \"s\": torch.rand(2,4,4)})\n",
    "dg.add_edges(edge_type = \"w\", U = tensor([1,2,1,4,2,0]), V = tensor([2,2,2,4,3,1]), values = tensor([2,3,9,10,0,2]), directed = True)\n",
    "\n",
    "#dg.delete_edges(\"w\", U = tensor([4,1,2]), V = tensor([4,2,2]))\n",
    "#print(dg.edge_data[\"w\"].U, dg.edge_data[\"w\"].V, dg.edge_data[\"w\"].values)\n",
    "\n",
    "dg.delete_nodes(node_identifiers = tensor([2,3]))\n",
    "#dg.get_relative_node_indices(tensor([1,2,3]))"
   ]
  },
  {
   "cell_type": "code",
   "execution_count": 171,
   "metadata": {},
   "outputs": [
    {
     "data": {
      "text/plain": [
       "tensor([[False, False, False, False,  True,  True,  True,  True,  True,  True],\n",
       "        [False, False, False,  True,  True,  True,  True,  True,  True,  True]])"
      ]
     },
     "execution_count": 171,
     "metadata": {},
     "output_type": "execute_result"
    }
   ],
   "source": [
    "arange(10).repeat(2,1) >= tensor([[4],[3]])"
   ]
  },
  {
   "cell_type": "code",
   "execution_count": 176,
   "metadata": {},
   "outputs": [
    {
     "data": {
      "text/plain": [
       "tensor([[1, 2, 1, 4, 2, 0],\n",
       "        [2, 2, 2, 4, 3, 1]])"
      ]
     },
     "execution_count": 176,
     "metadata": {},
     "output_type": "execute_result"
    }
   ],
   "source": [
    "a = tensor([[1,2,1,4,2,0],[2,2,2,4,3,1]] )\n",
    "a "
   ]
  },
  {
   "cell_type": "code",
   "execution_count": 186,
   "metadata": {},
   "outputs": [
    {
     "data": {
      "text/plain": [
       "{'a': tensor([  0,   1, 100,   3])}"
      ]
     },
     "execution_count": 186,
     "metadata": {},
     "output_type": "execute_result"
    }
   ],
   "source": [
    "a = {\"a\": tensor([0,1,2,3])}\n",
    "a[\"a\"][a['a'] == 2] = 100\n",
    "a"
   ]
  },
  {
   "cell_type": "code",
   "execution_count": 180,
   "metadata": {},
   "outputs": [
    {
     "data": {
      "text/plain": [
       "{'a': tensor([0, 5, 2, 3])}"
      ]
     },
     "execution_count": 180,
     "metadata": {},
     "output_type": "execute_result"
    }
   ],
   "source": [
    "a['a'][1] = 5\n",
    "a"
   ]
  }
 ],
 "metadata": {
  "kernelspec": {
   "display_name": "Python 3",
   "language": "python",
   "name": "python3"
  },
  "language_info": {
   "codemirror_mode": {
    "name": "ipython",
    "version": 3
   },
   "file_extension": ".py",
   "mimetype": "text/x-python",
   "name": "python",
   "nbconvert_exporter": "python",
   "pygments_lexer": "ipython3",
   "version": "3.8.5"
  }
 },
 "nbformat": 4,
 "nbformat_minor": 4
}
